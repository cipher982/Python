{
 "cells": [
  {
   "cell_type": "code",
   "execution_count": 15,
   "metadata": {
    "collapsed": false
   },
   "outputs": [
    {
     "name": "stdout",
     "output_type": "stream",
     "text": [
      "100000 loops, best of 3: 10.5 µs per loop\n"
     ]
    }
   ],
   "source": [
    "# Method 1- For loop\n",
    "def square_for(numbs):\n",
    "    result = []\n",
    "    for x in numbs:\n",
    "        result.append(x**20)\n",
    "    return result\n",
    "%timeit square_for(range(1,11))"
   ]
  },
  {
   "cell_type": "code",
   "execution_count": 22,
   "metadata": {
    "collapsed": false
   },
   "outputs": [
    {
     "ename": "TypeError",
     "evalue": "unbound method addItem() must be called with Classy instance as first argument (got str instance instead)",
     "output_type": "error",
     "traceback": [
      "\u001b[1;31m---------------------------------------------------------------------------\u001b[0m",
      "\u001b[1;31mTypeError\u001b[0m                                 Traceback (most recent call last)",
      "\u001b[1;32m<ipython-input-22-3d984bdf3412>\u001b[0m in \u001b[0;36m<module>\u001b[1;34m()\u001b[0m\n\u001b[0;32m     22\u001b[0m \u001b[1;33m\u001b[0m\u001b[0m\n\u001b[0;32m     23\u001b[0m \u001b[1;31m# Should be 0\u001b[0m\u001b[1;33m\u001b[0m\u001b[1;33m\u001b[0m\u001b[0m\n\u001b[1;32m---> 24\u001b[1;33m \u001b[0mClassy\u001b[0m\u001b[1;33m.\u001b[0m\u001b[0maddItem\u001b[0m\u001b[1;33m(\u001b[0m\u001b[1;34m'tophat'\u001b[0m\u001b[1;33m,\u001b[0m\u001b[1;34m'monocle'\u001b[0m\u001b[1;33m)\u001b[0m\u001b[1;33m\u001b[0m\u001b[0m\n\u001b[0m\u001b[0;32m     25\u001b[0m \u001b[1;33m\u001b[0m\u001b[0m\n\u001b[0;32m     26\u001b[0m \"\"\"\n",
      "\u001b[1;31mTypeError\u001b[0m: unbound method addItem() must be called with Classy instance as first argument (got str instance instead)"
     ]
    }
   ],
   "source": [
    "class Classy(object):\n",
    "    def __init__(self):\n",
    "        self.items = []\n",
    "\n",
    "    def addItem(self, item):\n",
    "        self.items.append(item)\n",
    "\n",
    "    def getClassiness(self):\n",
    "        classiness = 0\n",
    "        if len(self.items) > 0:\n",
    "            for item in self.items:\n",
    "                if item == \"tophat\":\n",
    "                    classiness += 2\n",
    "                elif item == \"bowtie\":\n",
    "                    classiness += 4\n",
    "                elif item == \"monocle\":\n",
    "                    classiness += 5\n",
    "        return classiness\n",
    "    \n",
    "# Test cases\n",
    "\n",
    "\n",
    "# Should be 0\n",
    "Classy.addItem('tophat','monocle')\n",
    "\n",
    "\"\"\"\n",
    "self.addItem(\"tophat\")\n",
    "# Should be 2\n",
    "print self.getClassiness()\n",
    "\n",
    "me.addItem(\"bowtie\")\n",
    "me.addItem(\"jacket\")\n",
    "me.addItem(\"monocle\")\n",
    "# Should be 11\n",
    "print me.getClassiness()\n",
    "\n",
    "me.addItem(\"bowtie\")\n",
    "# Should be 15\n",
    "print me.getClassiness()\n",
    "\"\"\""
   ]
  },
  {
   "cell_type": "code",
   "execution_count": 16,
   "metadata": {
    "collapsed": false
   },
   "outputs": [
    {
     "name": "stdout",
     "output_type": "stream",
     "text": [
      "12345\n"
     ]
    }
   ],
   "source": [
    "class MyClass:\n",
    "    \"\"\"A simple example class\"\"\"\n",
    "    i = 12345\n",
    "\n",
    "    def f(self):\n",
    "        print 'hello world'\n",
    "    \n",
    "print MyClass.i"
   ]
  }
 ],
 "metadata": {
  "anaconda-cloud": {},
  "kernelspec": {
   "display_name": "Python [Root]",
   "language": "python",
   "name": "Python [Root]"
  },
  "language_info": {
   "codemirror_mode": {
    "name": "ipython",
    "version": 2
   },
   "file_extension": ".py",
   "mimetype": "text/x-python",
   "name": "python",
   "nbconvert_exporter": "python",
   "pygments_lexer": "ipython2",
   "version": "2.7.11"
  }
 },
 "nbformat": 4,
 "nbformat_minor": 0
}
